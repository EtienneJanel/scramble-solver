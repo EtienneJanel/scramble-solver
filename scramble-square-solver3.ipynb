{
 "cells": [
  {
   "cell_type": "markdown",
   "metadata": {},
   "source": [
    "## Results\n",
    "for grid [0,0,0]:                   110 solutions<br>\n",
    "for grid [[0,0,0],[0,0,0]]:         39 solutions    <br>\n",
    "for grid [[0,0,0],[0,0,0],[0,0,0]]: 0 solution 😩 \n",
    "\n",
    "from the above solutions I've checked few of them and they worked !\n",
    "I assume the unique solution lays in the 39, and the code is 'boken' at some point ?<br>\n",
    "*maybe in the manipulation of 'Tile.used = TRUE/FALSE' ?*"
   ]
  },
  {
   "cell_type": "code",
   "execution_count": 39,
   "metadata": {},
   "outputs": [],
   "source": [
    "class Tile:\n",
    "    def __init__(self, name, north, east, south, west):\n",
    "        \"\"\"defines the cardinal images clockwise\"\"\"\n",
    "        self.name = name\n",
    "        self.north = north\n",
    "        self.east = east\n",
    "        self.south = south\n",
    "        self.west = west\n",
    "        \n",
    "        self.used = False\n",
    "    \n",
    "    def turn(self):\n",
    "        \"\"\"turn the tile by 90 degrees\"\"\"\n",
    "        if self.used == False:\n",
    "            north = self.west \n",
    "            east = self.north\n",
    "            south= self.east \n",
    "            west = self.south\n",
    "\n",
    "            self.north = north\n",
    "            self.east = east\n",
    "            self.south = south\n",
    "            self.west = west\n",
    "        else:\n",
    "            # we shouldn't turn a tile already set on the grid !\n",
    "            pass\n",
    "    def __repr__(self):\n",
    "        return self.name\n",
    "\n",
    "def possible(y, x, new_tile):\n",
    "    \"\"\"check neighbourg North and West only\n",
    "    because we assume the next tile (west and south) are empty\"\"\"\n",
    "#     global grid\n",
    "    if new_tile.used == False:\n",
    "        for _ in range(4):\n",
    "            if y > 0:\n",
    "                north = new_tile.north + grid[y-1][x].south\n",
    "            else:\n",
    "                north = 0\n",
    "\n",
    "            if x > 0:\n",
    "                west = new_tile.west + grid[y][x-1].east\n",
    "            else:\n",
    "                west = 0\n",
    "\n",
    "            if north == 0 and west == 0:\n",
    "                return True\n",
    "                break\n",
    "            else:\n",
    "                new_tile.turn()\n",
    "    return False\n",
    "\n",
    "def solution():\n",
    "    global list_tiles\n",
    "    global grid\n",
    "    global count\n",
    "    for y in range(3):\n",
    "        for x in range(3):\n",
    "            if grid[y][x] == 0:\n",
    "                for tile in list_tiles:\n",
    "                    if possible(y,x, tile):\n",
    "                        grid[y][x] = tile\n",
    "                        tile.used = True\n",
    "\n",
    "                        solution()\n",
    "\n",
    "                        grid[y][x] = 0\n",
    "                        tile.used = False\n",
    "                return\n",
    "\n",
    "#     print(grid)\n",
    "#     input(\"more?\")\n",
    "#     for i in list_tiles:\n",
    "#         print(i.name, i.used, i.north, i.east, i.south, i.west)\n",
    "    count += 1"
   ]
  },
  {
   "cell_type": "code",
   "execution_count": 40,
   "metadata": {},
   "outputs": [],
   "source": [
    "p1 = Tile(\"p1\", 1, 2, -2, -3)\n",
    "p2 = Tile(\"p2\", 2, -4, 4, 3)\n",
    "p3 = Tile(\"p3\", 2, 3, -4 ,1)\n",
    "\n",
    "p4 = Tile(\"p4\", -2, 1, -4, 3)\n",
    "p5 = Tile(\"p5\", -1, -4, 1, 3)\n",
    "p6 = Tile(\"p6\", 4, -3, 2, -1)\n",
    "\n",
    "p7 = Tile(\"p7\", 2, -3, -4, -1)\n",
    "p8 = Tile(\"p8\", -4, 1, -2, 3)\n",
    "p9 = Tile(\"p9\", 3, -1, 4, -2)\n",
    "\n",
    "list_tiles = [p1, p2, p3, p4, p5, p6, p7, p8, p9]\n",
    "count = 0\n",
    "\n",
    "grid = [[0,0,0], [0,0,0], [0,0,0]]    "
   ]
  },
  {
   "cell_type": "code",
   "execution_count": 41,
   "metadata": {
    "scrolled": false
   },
   "outputs": [
    {
     "data": {
      "text/plain": [
       "0"
      ]
     },
     "execution_count": 41,
     "metadata": {},
     "output_type": "execute_result"
    }
   ],
   "source": [
    "solution()\n",
    "count"
   ]
  },
  {
   "cell_type": "code",
   "execution_count": null,
   "metadata": {},
   "outputs": [],
   "source": []
  }
 ],
 "metadata": {
  "kernelspec": {
   "display_name": "Python 3",
   "language": "python",
   "name": "python3"
  },
  "language_info": {
   "codemirror_mode": {
    "name": "ipython",
    "version": 3
   },
   "file_extension": ".py",
   "mimetype": "text/x-python",
   "name": "python",
   "nbconvert_exporter": "python",
   "pygments_lexer": "ipython3",
   "version": "3.7.3"
  }
 },
 "nbformat": 4,
 "nbformat_minor": 2
}
