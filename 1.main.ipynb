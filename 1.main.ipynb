{
 "cells": [
  {
   "cell_type": "markdown",
   "metadata": {},
   "source": [
    "# Scramble Square Solver\n",
    "Takes 9 tiles (p1->p9) and solves a 3x3 organisation using brute force "
   ]
  },
  {
   "cell_type": "markdown",
   "metadata": {},
   "source": [
    "mapping:\n",
    "\n",
    "    m = {1:'duck head', -1:'duck tail',\n",
    "        2:'orangutan head', -2:'orangutan tail',\n",
    "        3:'sloth head', -3:'sloth tail',\n",
    "        4:'snake head', -4:'snake tail'}"
   ]
  },
  {
   "cell_type": "code",
   "execution_count": 1,
   "metadata": {},
   "outputs": [],
   "source": [
    "from solution_finder import *\n",
    "from define_tile import Tile"
   ]
  },
  {
   "cell_type": "code",
   "execution_count": 5,
   "metadata": {},
   "outputs": [
    {
     "name": "stdout",
     "output_type": "stream",
     "text": [
      "here is the solution! 🙆‍\n",
      "[p1, p8, p3]\n",
      "[p2, p6, p5]\n",
      "[p9, p7, p4]\n",
      "place tile with north like:\n",
      "[-2, 1, -4, -1, 2, -2, 1, 1, -2]\n"
     ]
    }
   ],
   "source": [
    "# Declare the 9 tiles\n",
    "p1 = Tile(\"p1\",-1,-3,-2,4)\n",
    "p2 = Tile(\"p2\",-3,1,-4,2)\n",
    "p3 = Tile(\"p3\",3,-4,1,-2)\n",
    "\n",
    "p4 = Tile(\"p4\",-1,2,4,-4)\n",
    "p5 = Tile(\"p5\",1,-3,2,4)\n",
    "p6 = Tile(\"p6\",-2,3,-1,4)\n",
    "\n",
    "p7 = Tile(\"p7\",1,4,-3,3)\n",
    "p8 = Tile(\"p8\",1,-3,2,-4)\n",
    "p9 = Tile(\"p9\",-2,-3,2,1)\n",
    "\n",
    "list_tiles = [p1,p2,p3,p4,p5,p6,p7,p8,p9]\n",
    "\n",
    "# Print the solution\n",
    "S = Solution(list_tiles)"
   ]
  }
 ],
 "metadata": {
  "kernelspec": {
   "display_name": "Python 3",
   "language": "python",
   "name": "python3"
  },
  "language_info": {
   "codemirror_mode": {
    "name": "ipython",
    "version": 3
   },
   "file_extension": ".py",
   "mimetype": "text/x-python",
   "name": "python",
   "nbconvert_exporter": "python",
   "pygments_lexer": "ipython3",
   "version": "3.7.3"
  },
  "toc": {
   "base_numbering": 1,
   "nav_menu": {},
   "number_sections": true,
   "sideBar": true,
   "skip_h1_title": false,
   "title_cell": "Table of Contents",
   "title_sidebar": "Contents",
   "toc_cell": false,
   "toc_position": {},
   "toc_section_display": true,
   "toc_window_display": false
  }
 },
 "nbformat": 4,
 "nbformat_minor": 2
}
