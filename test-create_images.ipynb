{
 "cells": [
  {
   "cell_type": "markdown",
   "metadata": {},
   "source": [
    "Objective: cut and combine images of emojis to build the puzzle from a given list of coordinates"
    "test version - to finalise"
    "# TO DO\n",
    "create a class out of this mess"
   ]
  },
  {
   "cell_type": "code",
   "execution_count": 1,
   "metadata": {},
   "outputs": [],
   "source": [
    "from PIL import Image"
   ]
  },
  {
   "cell_type": "code",
   "execution_count": 2,
   "metadata": {},
   "outputs": [],
   "source": [
    "path = \"./emojis\""
   ]
  },
  {
   "cell_type": "code",
   "execution_count": 10,
   "metadata": {},
   "outputs": [],
   "source": [
    "def crop(path, file):\n",
    "    \"\"\"cut one image in two halfs\n",
    "    Parameters:\n",
    "        path: STR path of the folder\n",
    "        file: STR name of the image\"\"\"\n",
    "    \n",
    "    im = Image.open(path + \"/\" + file)\n",
    "    igwidth, imgheight = im.size\n",
    "    \n",
    "    box_up = (0,0, im.height, im.height/2)\n",
    "    box_down = (0, im.height/2, im.height, im.height)\n",
    "    \n",
    "    half_up = im.crop(box_up)\n",
    "    half_down = im.crop(box_down)\n",
    "    \n",
    "    try:\n",
    "        half_up.save(path + \"/\" + file[0:-4] + \" up.png\")\n",
    "        half_down.save(path + \"/\" + file[0:-4] + \" down.png\")\n",
    "        \n",
    "    except:\n",
    "        print(\"error in file\")\n",
    "        pass\n",
    "    \n",
    "def concat_v(up=None, down=None):\n",
    "    \"\"\"merge two images into one\n",
    "    parameters:\n",
    "        up: STR image nae\n",
    "        down: STR image name\"\"\"\n",
    "    #Open\n",
    "    up = Image.open(up)\n",
    "    down = Image.open(down)\n",
    "    \n",
    "    # New img in RGBA (alpha)\n",
    "    dst = Image.new('RGBA', (up.width, up.height + down.height), color = (255,255,255))\n",
    "    dst.paste(up, (0,0))\n",
    "    dst.paste(down, (0, up.height))\n",
    "    return dst\n",
    "\n",
    "# new_img = concat_v('test.png', 'test.png')\n",
    "# new_img.save('concatenated_test.png')"
   ]
  },
  {
   "cell_type": "code",
   "execution_count": 3,
   "metadata": {},
   "outputs": [],
   "source": [
    "import os"
   ]
  },
  {
   "cell_type": "code",
   "execution_count": 11,
   "metadata": {},
   "outputs": [],
   "source": [
    "# split all files in 2 halves\n",
    "for root, dirs, files in os.walk(\"./emojis\"):\n",
    "    for file in files:\n",
    "#         print(root, file)\n",
    "        crop(root, file)"
   ]
  },
  {
   "cell_type": "code",
   "execution_count": 104,
   "metadata": {},
   "outputs": [],
   "source": [
    "\n",
    "def create_tile(path, N, E, S, W, name):\n",
    "    \"\"\"create one tile of our puzzle\n",
    "    parameters:\n",
    "        path: STR path of the images\n",
    "        N: STR north part of the tile, takes half of an image\n",
    "        E: STR east part of the tile\n",
    "        S: STR south part of the tile\n",
    "        W: STR west part of the tile\n",
    "        name: output name of the file to save\n",
    "        \n",
    "    output: save the new image in the declared path\"\"\"\n",
    "    \n",
    "    if path[-1] != '/':\n",
    "        path += '/'   \n",
    "#     mapping = {1:'duck', 2:'orangutan', 3:'sloth', 4:'snake'}\n",
    "\n",
    "    # Stores each half of image into a tuple\n",
    "    N = (N,Image.open(path + N).convert('RGBA'))\n",
    "    E = (E,Image.open(path + E).convert('RGBA'))\n",
    "    S = (S,Image.open(path + S).convert('RGBA'))\n",
    "    W = (W,Image.open(path + W).convert('RGBA'))\n",
    "\n",
    "    # Create white background with RGBA (alpha) properties\n",
    "    HEIGHT = WIDTH = 200\n",
    "    WHITE = (255,255,255)\n",
    "    dst = Image.new('RGBA', (WIDTH, HEIGHT), color = WHITE)\n",
    "\n",
    "    # /!\\ TO OPTIMISE\n",
    "    # Place new images on top of the background\n",
    "    #   NORTH\n",
    "    if is_down(N[0]):\n",
    "        r = 0\n",
    "    else:\n",
    "        r = 180\n",
    "    dst.paste(N[1].rotate(r), (int((WIDTH-N[1].width)/2),0),\n",
    "             N[1].rotate(r))\n",
    "\n",
    "    # EAST\n",
    "    if is_down(E[0]):\n",
    "        dst.paste(E[1].transpose(Image.ROTATE_270), (int(WIDTH-E[1].height), int((WIDTH-E[1].width)/2)),\n",
    "                 E[1].transpose(Image.ROTATE_270))\n",
    "    else:\n",
    "        dst.paste(E[1].transpose(Image.ROTATE_90), (int(WIDTH-E[1].height), int((WIDTH-E[1].width)/2)),\n",
    "                 E[1].transpose(Image.ROTATE_90))\n",
    "\n",
    "    # SOUTH\n",
    "    if is_down(S[0]):\n",
    "        r = 180\n",
    "    else:\n",
    "        r = 0\n",
    "    dst.paste(S[1].rotate(r), (int((WIDTH-S[1].width)/2),int(WIDTH-E[1].height)),\n",
    "             S[1].rotate(r))\n",
    "\n",
    "    # WEST\n",
    "    if is_down(W[0]):\n",
    "        dst.paste(W[1].transpose(Image.ROTATE_90), (0, int((WIDTH-W[1].width)/2)),\n",
    "                 W[1].transpose(Image.ROTATE_90))\n",
    "    else:\n",
    "        dst.paste(W[1].transpose(Image.ROTATE_270), (0, int((WIDTH-W[1].width)/2)), \n",
    "                  mask=W[1].transpose(Image.ROTATE_270))\n",
    "\n",
    "\n",
    "    dst.save(path + name + '.png')\n",
    "    dst\n",
    "    \n",
    "def transform_num_img(a,b,c,d):\n",
    "    \"\"\"from the mapping m below,\n",
    "    return the name of the file from a number\"\"\"\n",
    "    \n",
    "    m = {1:'duck_1f986 up.png', -1:'duck_1f986 down.png',\n",
    "        2:'orangutan_1f9a7 up.png', -2:'orangutan_1f9a7 down.png',\n",
    "        3:'sloth_1f9a5 up.png', -3:'sloth_1f9a5 down.png',\n",
    "        4:'snake_1f40d up.png', -4:'snake_1f40d down.png'}\n",
    "    \n",
    "    return m.get(a), m.get(b), m.get(c), m.get(d)\n",
    "\n"
   ]
  },
  {
   "cell_type": "code",
   "execution_count": 116,
   "metadata": {},
   "outputs": [],
   "source": [
    "# Declares list of tiles with cardinal position\n",
    "tiles = [(-1,-3,-2,4),(-3,1,-4,2),(3,-4,1,-2),\n",
    "        (-1,2,4,-4),(1,-3,2,4),(-2,3,-1,4),\n",
    "        (1,4,-3,3),(1,-3,2,-4),(-2,-3,2,1)]\n",
    "\n",
    "# Creates puzzle based on the above cardinal points and the mapping of images 'm'\n",
    "c = 1\n",
    "for i in tiles:\n",
    "    im1,im2,im3,im4 = transform_num_img(*i)\n",
    "    create_tile(path, im1,im2,im3,im4, f'p{c}')\n",
    "    c += 1"
   ]
  }
 ],
 "metadata": {
  "kernelspec": {
   "display_name": "Python 3",
   "language": "python",
   "name": "python3"
  },
  "language_info": {
   "codemirror_mode": {
    "name": "ipython",
    "version": 3
   },
   "file_extension": ".py",
   "mimetype": "text/x-python",
   "name": "python",
   "nbconvert_exporter": "python",
   "pygments_lexer": "ipython3",
   "version": "3.7.3"
  },
  "toc": {
   "base_numbering": 1,
   "nav_menu": {},
   "number_sections": true,
   "sideBar": true,
   "skip_h1_title": false,
   "title_cell": "Table of Contents",
   "title_sidebar": "Contents",
   "toc_cell": false,
   "toc_position": {},
   "toc_section_display": true,
   "toc_window_display": false
  }
 },
 "nbformat": 4,
 "nbformat_minor": 2
}
